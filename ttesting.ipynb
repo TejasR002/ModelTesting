{
  "nbformat": 4,
  "nbformat_minor": 0,
  "metadata": {
    "colab": {
      "provenance": []
    },
    "kernelspec": {
      "name": "python3",
      "display_name": "Python 3"
    },
    "language_info": {
      "name": "python"
    }
  },
  "cells": [
    {
      "cell_type": "code",
      "execution_count": 1,
      "metadata": {
        "id": "KA6Z909DXaFZ"
      },
      "outputs": [],
      "source": [
        "def generate_name_classification_prompt(input: str, categories: list, rules: dict) -> str:\n",
        "    \"\"\"\n",
        "    Generates a classification prompt for OpenAI with instructions to return JSON output.\n",
        "    \"\"\"\n",
        "    rule_text = \"\"\n",
        "    for cat in categories:\n",
        "        rule_text += f\"\\n**{cat} Rules:**\\n- \" + \"\\n- \".join(rules[cat]) + \"\\n\"\n",
        "\n",
        "    prompt = f\"\"\"You are a classification assistant. Your task is to classify a given text input into one of the following categories based on custom rules.\n",
        "\n",
        "**text input:** {input}\n",
        "\n",
        "**Categories:** {\", \".join(categories)}\n",
        "\n",
        "{rule_text}\n",
        "\n",
        "Instructions:\n",
        "- Analyze the text input using the rules above.\n",
        "- Decide the most appropriate category according to rules.\n",
        "- Don't use any predefined rules or dont make any assumptions\n",
        "- Strictly use only the rules given to you\n",
        "- if there are any words that overlaps the category then fully get dependent on the rules.\n",
        "- Return only a valid JSON in the format: {{ \"object_location\": \"<Final Category>\" }}\n",
        "\"\"\"\n",
        "    return prompt\n"
      ]
    },
    {
      "cell_type": "code",
      "source": [
        "import openai\n",
        "import json\n",
        "from openai import OpenAI\n",
        "from google.colab import userdata\n",
        "client = OpenAI(api_key=userdata.get('OPEN_AI_KEY'))\n",
        "\n",
        "categories = [\"schoolname\", \"region\", \"charter\"]\n",
        "\n",
        "rules = {\n",
        "    \"schoolname\": [\n",
        "        \"The schoolname is usually contains the names of some entities or some society or there will be term school or intitute at the end of the name given\",\n",
        "        \"if there is word school in the text, then force fully categorize it to school ,even when there are other terms in the text\",\n",
        "        \"\"\n",
        "        \"Common terms: studentid, studentname, credits, no_day_active,classs,schoolactivities,school,School\"\n",
        "    ],\n",
        "    \"region\": [\n",
        "        \"it refers to the area or location followed by the explicitly given 'region' at the end of the given name\",\n",
        "        \"Only classify to this category if there is explicitly mentioned region \",\n",
        "        \"if there is not given 'region' word in the name consider the other category\",\n",
        "        \"if there is term 'region' but there is also the word school then give priority to school \",\n",
        "        \"Common terms: region\"\n",
        "    ],\n",
        "    \"charter\": [\n",
        "        \"the charter category is explicitly defined in the name and at the end or in some place there will be the term 'charter'\",\n",
        "        \"if there is not mention term 'charter' then consider any other category but don't use charter category\",\n",
        "        \"if 'charter' is the and the other category term is there then don't classify to charter,make sure there is only the charter term in the name , not any other category terms\"\n",
        "        \"Common terms: charter\"\n",
        "    ]\n",
        "}\n",
        "\n",
        "# Example name to classify\n",
        "name_to_classify = \"How many childrens are from Desert Sands Charter High School?\"\n",
        "\n",
        "# Generate prompt\n",
        "prompt = generate_name_classification_prompt(name_to_classify, categories, rules)\n",
        "\n",
        "# Query model\n",
        "response = client.chat.completions.create(\n",
        "    model=\"gpt-4o-mini\",\n",
        "    messages=[{\"role\": \"user\", \"content\": prompt}],\n",
        "    temperature=0,\n",
        "    max_tokens=150\n",
        "\n",
        ")\n",
        "\n",
        "# Extract and parse JSON response\n",
        "import json\n",
        "\n",
        "output_text = response.choices[0].message.content.strip()\n",
        "\n",
        "# Print the raw output to debug\n",
        "print(\"RAW OUTPUT FROM OPENAI:\\n\", output_text)\n",
        "\n",
        "try:\n",
        "    result_json = json.loads(output_text)\n",
        "    print(\"Parsed JSON:\", result_json)\n",
        "except json.JSONDecodeError as e:\n",
        "    print(\"JSON parsing failed:\", e)\n"
      ],
      "metadata": {
        "colab": {
          "base_uri": "https://localhost:8080/"
        },
        "id": "Do1TehdqXi99",
        "outputId": "e25888bb-2454-44a7-dad6-11c040293c40"
      },
      "execution_count": 15,
      "outputs": [
        {
          "output_type": "stream",
          "name": "stdout",
          "text": [
            "RAW OUTPUT FROM OPENAI:\n",
            " ```json\n",
            "{ \"object_location\": \"schoolname\" }\n",
            "```\n",
            "JSON parsing failed: Expecting value: line 1 column 1 (char 0)\n"
          ]
        }
      ]
    },
    {
      "cell_type": "code",
      "source": [
        ""
      ],
      "metadata": {
        "id": "j_pDpqhXgcFf"
      },
      "execution_count": null,
      "outputs": []
    }
  ]
}